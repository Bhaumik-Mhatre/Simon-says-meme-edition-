{
  "nbformat": 4,
  "nbformat_minor": 0,
  "metadata": {
    "colab": {
      "provenance": [],
      "authorship_tag": "ABX9TyOUjOyWiTNGj/jFv12iC4pl",
      "include_colab_link": true
    },
    "kernelspec": {
      "name": "python3",
      "display_name": "Python 3"
    },
    "language_info": {
      "name": "python"
    }
  },
  "cells": [
    {
      "cell_type": "markdown",
      "metadata": {
        "id": "view-in-github",
        "colab_type": "text"
      },
      "source": [
        "<a href=\"https://colab.research.google.com/github/Bhaumik-Mhatre/Simon-says-meme-edition-/blob/main/8.ipynb\" target=\"_parent\"><img src=\"https://colab.research.google.com/assets/colab-badge.svg\" alt=\"Open In Colab\"/></a>"
      ]
    },
    {
      "cell_type": "code",
      "execution_count": 2,
      "metadata": {
        "id": "baIRC5zVWkk9"
      },
      "outputs": [],
      "source": []
    },
    {
      "cell_type": "code",
      "source": [],
      "metadata": {
        "id": "ScKO2aeen7Tr"
      },
      "execution_count": null,
      "outputs": []
    },
    {
      "cell_type": "code",
      "source": [],
      "metadata": {
        "id": "YgcuXRzcn7Xr"
      },
      "execution_count": null,
      "outputs": []
    },
    {
      "cell_type": "code",
      "source": [],
      "metadata": {
        "id": "lqG2Govvn7bi"
      },
      "execution_count": null,
      "outputs": []
    },
    {
      "cell_type": "code",
      "source": [],
      "metadata": {
        "id": "eZXhoEWTn7fN"
      },
      "execution_count": null,
      "outputs": []
    },
    {
      "cell_type": "code",
      "source": [],
      "metadata": {
        "id": "iFKIwlF8n7j2"
      },
      "execution_count": null,
      "outputs": []
    },
    {
      "cell_type": "code",
      "source": [],
      "metadata": {
        "id": "w8dZgILon7nT"
      },
      "execution_count": null,
      "outputs": []
    },
    {
      "cell_type": "code",
      "source": [],
      "metadata": {
        "id": "0kaYDa2mn7ra"
      },
      "execution_count": null,
      "outputs": []
    },
    {
      "cell_type": "code",
      "source": [],
      "metadata": {
        "id": "1N9v4XKFn7vh"
      },
      "execution_count": null,
      "outputs": []
    },
    {
      "cell_type": "code",
      "source": [],
      "metadata": {
        "id": "KaxAdxBFn7zZ"
      },
      "execution_count": null,
      "outputs": []
    },
    {
      "cell_type": "code",
      "source": [],
      "metadata": {
        "id": "LU3eG_DKn727"
      },
      "execution_count": null,
      "outputs": []
    },
    {
      "cell_type": "code",
      "source": [],
      "metadata": {
        "id": "C-Bd18Ion76d"
      },
      "execution_count": null,
      "outputs": []
    },
    {
      "cell_type": "code",
      "source": [],
      "metadata": {
        "id": "1MSe9OIrn7-A"
      },
      "execution_count": null,
      "outputs": []
    },
    {
      "cell_type": "code",
      "source": [],
      "metadata": {
        "id": "nRCiPxM8n8BP"
      },
      "execution_count": null,
      "outputs": []
    },
    {
      "cell_type": "code",
      "source": [],
      "metadata": {
        "id": "gxIaqC9fn8FC"
      },
      "execution_count": null,
      "outputs": []
    },
    {
      "cell_type": "code",
      "source": [],
      "metadata": {
        "id": "1C-LfTImn8Iw"
      },
      "execution_count": null,
      "outputs": []
    },
    {
      "cell_type": "code",
      "source": [],
      "metadata": {
        "id": "FsAbv5s6n8MN"
      },
      "execution_count": null,
      "outputs": []
    },
    {
      "cell_type": "code",
      "source": [],
      "metadata": {
        "id": "f3BN6gGJn8Pq"
      },
      "execution_count": null,
      "outputs": []
    },
    {
      "cell_type": "code",
      "source": [],
      "metadata": {
        "id": "-1IZ-7AIn8Tk"
      },
      "execution_count": null,
      "outputs": []
    },
    {
      "cell_type": "code",
      "source": [
        "#Step 1: Import Required Libraries\n",
        "import pandas as pd\n",
        "import numpy as np\n",
        "import matplotlib.pyplot as plt\n",
        "import seaborn as sns\n",
        "from sklearn.datasets import load_wine\n",
        "from sklearn.decomposition import PCA"
      ],
      "metadata": {
        "id": "JrEQY-68n8Xv"
      },
      "execution_count": null,
      "outputs": []
    },
    {
      "cell_type": "code",
      "source": [
        "#Step 2: Load the Wine Dataset\n",
        "wine = load_wine(as_frame=True)\n",
        "df = wine.frame"
      ],
      "metadata": {
        "id": "McCJxXP1Wtbt"
      },
      "execution_count": 4,
      "outputs": []
    },
    {
      "cell_type": "code",
      "source": [
        "#Show first few rows\n",
        "print(df.head())\n",
        "print(\"Shape:\", df.shape)"
      ],
      "metadata": {
        "id": "yycjk0imW0Si"
      },
      "execution_count": null,
      "outputs": []
    },
    {
      "cell_type": "code",
      "source": [
        "#Step 3: Extract Input Features (X)\n",
        "X = df[wine['feature_names']]\n",
        "print(\"Input Features Shape:\", X.shape)"
      ],
      "metadata": {
        "id": "KwKpKupfXGns"
      },
      "execution_count": null,
      "outputs": []
    },
    {
      "cell_type": "code",
      "source": [
        "#Step 4: Standardize the Features (Z-score Normalization)\n",
        "X_mean = X.mean()\n",
        "X_std = X.std()\n",
        "Z = (X - X_mean) / X_std\n",
        "print(X_mean)\n",
        "print(X_std)\n",
        "print(\"Standardized Features Shape:\", Z.shape)"
      ],
      "metadata": {
        "id": "TGLQsSg7Xd_J"
      },
      "execution_count": null,
      "outputs": []
    },
    {
      "cell_type": "code",
      "source": [
        "cov_matrix = Z.cov()\n",
        "print(cov_matrix)"
      ],
      "metadata": {
        "id": "eILbi-ahX0Gn"
      },
      "execution_count": null,
      "outputs": []
    },
    {
      "cell_type": "code",
      "source": [
        "#Step 6: Plot the Covariance Matrix\n",
        "plt.figure(figsize=(10, 8))\n",
        "sns.heatmap(cov_matrix, cmap='coolwarm')\n",
        "plt.title('Covariance Matrix Heatmap')\n",
        "plt.show()"
      ],
      "metadata": {
        "id": "4309mtT3YBRj"
      },
      "execution_count": null,
      "outputs": []
    },
    {
      "cell_type": "code",
      "source": [
        "#Step 7: Compute Eigenvalues and Eigenvectors\n",
        "eigenvalues, eigenvectors = np.linalg.eig(cov_matrix)\n",
        "print(\"Eigenvalues: \\n\", eigenvalues)\n",
        "print(\"Eigenvectors Shape:\", eigenvectors.shape)"
      ],
      "metadata": {
        "id": "pvMuYdEtYK93"
      },
      "execution_count": null,
      "outputs": []
    },
    {
      "cell_type": "code",
      "source": [
        "#Step 8: Sort Eigenvalues and Eigenvectors\n",
        "#Sort in descending order\n",
        "idx = eigenvalues.argsort() [::-1]\n",
        "eigenvalues = eigenvalues[idx]\n",
        "eigenvectors = eigenvectors [:, idx]\n",
        "print(idx)\n",
        "print(eigenvalues)\n",
        "print(eigenvectors)"
      ],
      "metadata": {
        "id": "mYimf-KRYdds"
      },
      "execution_count": null,
      "outputs": []
    },
    {
      "cell_type": "code",
      "source": [
        "#Step 9: Calculate Cumulative Explained Variance\n",
        "explained_var = np.cumsum (eigenvalues) / np.sum (eigenvalues)\n",
        "print(\"Cumulative Explained Variance:\\n\", explained_var)"
      ],
      "metadata": {
        "id": "AUOSH_o1ZyhF"
      },
      "execution_count": null,
      "outputs": []
    },
    {
      "cell_type": "code",
      "source": [
        "#Step 10: Select Number of Components (e.g., 2 for 50%+ Variance)\n",
        "n_components = np.argmax(explained_var >= 0.50) + 1\n",
        "print(\"Components for ≥ 50% Variance:\", n_components)"
      ],
      "metadata": {
        "id": "0EqOoMj9aFqP"
      },
      "execution_count": null,
      "outputs": []
    },
    {
      "cell_type": "code",
      "source": [
        "#Step 11: Get PCA Components (Top Eigenvectors)\n",
        "u = eigenvectors[:, :n_components]\n",
        "pca_component = pd.DataFrame(u,\n",
        "                              index = wine['feature_names'],\n",
        "                              columns = [f'PC{i+1}' for i in range(n_components)])\n",
        "print(u)\n",
        "print(pca_component)"
      ],
      "metadata": {
        "id": "dnsJ61AuabRG"
      },
      "execution_count": null,
      "outputs": []
    },
    {
      "cell_type": "code",
      "source": [
        "#Step 12: Plot PCA Component Heatлар\n",
        "plt.figure(figsize=(6, 8))\n",
        "sns.heatmap(pca_component, annot=True, cmap='YlGnBu')\n",
        "plt.title('PCA Component Matrix')\n",
        "plt.show()"
      ],
      "metadata": {
        "id": "rESxnChdbDlS"
      },
      "execution_count": null,
      "outputs": []
    },
    {
      "cell_type": "code",
      "source": [
        "#Step 13: Project Original Data onto Principal Components (Manual PCA)\n",
        "Z_pca = Z@pca_component\n",
        "Z_pca.columns = [f'PCA{i+1}' for i in range(n_components)]\n",
        "print(Z_pca.head())"
      ],
      "metadata": {
        "id": "TGmrysFQbS1h"
      },
      "execution_count": null,
      "outputs": []
    },
    {
      "cell_type": "code",
      "source": [
        "#Step 14: PCA using sklearn\n",
        "pca = PCA(n_components=2)\n",
        "x_pca = pca.fit_transform(Z)\n",
        "\n",
        "df_pca_sklearn = pd.DataFrame(x_pca, columns=['PC1', 'PC2'])\n",
        "print(df_pca_sklearn.head())"
      ],
      "metadata": {
        "id": "UNzoE54vbmAR"
      },
      "execution_count": null,
      "outputs": []
    },
    {
      "cell_type": "code",
      "source": [
        "#Step 15: Plot PCA. Scatter Plot\n",
        "plt.figure(figsize=(8, 6))\n",
        "plt.scatter(x_pca[:, 0], x_pca[:, 1],\n",
        "            c=wine['target'], cmap='plasma', edgecolor=\"k\")\n",
        "plt.xlabel('First Principal Component')\n",
        "plt.ylabel('Second Principal Component')\n",
        "plt.title('PCA of Wine Dataset')\n",
        "plt.colorbar(label='Target Class')\n",
        "plt.grid(True)\n",
        "plt.show()"
      ],
      "metadata": {
        "id": "cykSulLsb33P"
      },
      "execution_count": null,
      "outputs": []
    },
    {
      "cell_type": "code",
      "source": [
        "#Step 16: Print PCA Components\n",
        "print(\"PCA Components (from sklearn):\")\n",
        "print(pca.components_)"
      ],
      "metadata": {
        "id": "s92EeCULcWfG"
      },
      "execution_count": null,
      "outputs": []
    }
  ]
}