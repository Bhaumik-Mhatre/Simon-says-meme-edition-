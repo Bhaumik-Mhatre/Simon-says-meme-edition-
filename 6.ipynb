{
  "nbformat": 4,
  "nbformat_minor": 0,
  "metadata": {
    "colab": {
      "provenance": [],
      "authorship_tag": "ABX9TyPNmraPTxzW0x7SEzEG7NKd",
      "include_colab_link": true
    },
    "kernelspec": {
      "name": "python3",
      "display_name": "Python 3"
    },
    "language_info": {
      "name": "python"
    }
  },
  "cells": [
    {
      "cell_type": "markdown",
      "metadata": {
        "id": "view-in-github",
        "colab_type": "text"
      },
      "source": [
        "<a href=\"https://colab.research.google.com/github/Bhaumik-Mhatre/Simon-says-meme-edition-/blob/main/6.ipynb\" target=\"_parent\"><img src=\"https://colab.research.google.com/assets/colab-badge.svg\" alt=\"Open In Colab\"/></a>"
      ]
    },
    {
      "cell_type": "code",
      "execution_count": null,
      "metadata": {
        "id": "DWdDXVocCYGQ"
      },
      "outputs": [],
      "source": []
    },
    {
      "cell_type": "code",
      "source": [],
      "metadata": {
        "id": "wYPzxiKynx7f"
      },
      "execution_count": null,
      "outputs": []
    },
    {
      "cell_type": "code",
      "source": [],
      "metadata": {
        "id": "rB1y9AIYnx_z"
      },
      "execution_count": null,
      "outputs": []
    },
    {
      "cell_type": "code",
      "source": [],
      "metadata": {
        "id": "Y1KyMUVJnyDW"
      },
      "execution_count": null,
      "outputs": []
    },
    {
      "cell_type": "code",
      "source": [],
      "metadata": {
        "id": "Ug-8mJvLnyHP"
      },
      "execution_count": null,
      "outputs": []
    },
    {
      "cell_type": "code",
      "source": [],
      "metadata": {
        "id": "G18vm_hPnyLC"
      },
      "execution_count": null,
      "outputs": []
    },
    {
      "cell_type": "code",
      "source": [],
      "metadata": {
        "id": "tfLMFpNznyO7"
      },
      "execution_count": null,
      "outputs": []
    },
    {
      "cell_type": "code",
      "source": [],
      "metadata": {
        "id": "Th9RTPV3nySm"
      },
      "execution_count": null,
      "outputs": []
    },
    {
      "cell_type": "code",
      "source": [],
      "metadata": {
        "id": "ShNdM1QunyWU"
      },
      "execution_count": null,
      "outputs": []
    },
    {
      "cell_type": "code",
      "source": [],
      "metadata": {
        "id": "u4YgVIm_nyaE"
      },
      "execution_count": null,
      "outputs": []
    },
    {
      "cell_type": "code",
      "source": [],
      "metadata": {
        "id": "z1bwsj0ynyeS"
      },
      "execution_count": null,
      "outputs": []
    },
    {
      "cell_type": "code",
      "source": [],
      "metadata": {
        "id": "6QJIZ-wanyiZ"
      },
      "execution_count": null,
      "outputs": []
    },
    {
      "cell_type": "code",
      "source": [],
      "metadata": {
        "id": "GEiAZzPenymG"
      },
      "execution_count": null,
      "outputs": []
    },
    {
      "cell_type": "code",
      "source": [],
      "metadata": {
        "id": "EwP_fjucnypx"
      },
      "execution_count": null,
      "outputs": []
    },
    {
      "cell_type": "code",
      "source": [],
      "metadata": {
        "id": "EmwiGY9unyth"
      },
      "execution_count": null,
      "outputs": []
    },
    {
      "cell_type": "code",
      "source": [],
      "metadata": {
        "id": "spJ-OuR9nyxG"
      },
      "execution_count": null,
      "outputs": []
    },
    {
      "cell_type": "code",
      "source": [],
      "metadata": {
        "id": "FPNFY5l9ny0j"
      },
      "execution_count": null,
      "outputs": []
    },
    {
      "cell_type": "code",
      "source": [],
      "metadata": {
        "id": "7kBASS_vny37"
      },
      "execution_count": null,
      "outputs": []
    },
    {
      "cell_type": "code",
      "source": [],
      "metadata": {
        "id": "jwpJUnu5ny7X"
      },
      "execution_count": null,
      "outputs": []
    },
    {
      "cell_type": "code",
      "source": [
        "def mcculloch_pitts_AND(inputs, weights, threshold):\n",
        "  weighted_sum = sum(i * w for i, w in zip(inputs, weights))\n",
        "  return 1 if weighted_sum >= threshold else 0"
      ],
      "metadata": {
        "id": "oIHBIJYTny-g"
      },
      "execution_count": null,
      "outputs": []
    },
    {
      "cell_type": "code",
      "source": [
        "#for input 2\n",
        "input_data = [(0, 0), (0, 1), (1, 0), (1, 1)]\n",
        "weights = [1, 1]\n",
        "threshold=2"
      ],
      "metadata": {
        "id": "FMw-H5DnCqEI"
      },
      "execution_count": null,
      "outputs": []
    },
    {
      "cell_type": "code",
      "source": [
        "print(\"2-Input AND Gate Outputs:\")\n",
        "for inputs in input_data:\n",
        "  weighted_sum = sum(i * w for i, w in zip(inputs, weights))\n",
        "  output = mcculloch_pitts_AND(inputs, weights, threshold)\n",
        "  print(f\"Input: {inputs} -> Weighted Sum: {weighted_sum} -> Neuron Output: {output}\")"
      ],
      "metadata": {
        "id": "HFqA6BKLCzle"
      },
      "execution_count": null,
      "outputs": []
    },
    {
      "cell_type": "code",
      "source": [
        "#for Input 3\n",
        "input_data = [\n",
        "  (0, 0, 0),\n",
        "  (0, 0, 1),\n",
        "  (0, 1, 0),\n",
        "  (0, 1, 1),\n",
        "  (1, 0, 0),\n",
        "  (1, 0, 1),\n",
        "  (1, 1, 0),\n",
        "  (1, 1, 1)\n",
        "]"
      ],
      "metadata": {
        "id": "PvBoY8gNDf7l"
      },
      "execution_count": null,
      "outputs": []
    },
    {
      "cell_type": "code",
      "source": [
        "weights = [1, 1, 1]\n",
        "\n",
        "threshold = 3"
      ],
      "metadata": {
        "id": "B8pGZBpFD3Sj"
      },
      "execution_count": null,
      "outputs": []
    },
    {
      "cell_type": "code",
      "source": [
        "print(\"3-Input AND Gate Outputs:\")\n",
        "\n",
        "for inputs in input_data:\n",
        "  weighted_sum = sum(i * w for i, w in zip(inputs, weights))\n",
        "  output = mcculloch_pitts_AND(inputs, weights, threshold)\n",
        "  print(f\"Input: {inputs} -> Weighted Sum: {weighted_sum} -> Neuron Output: {output}\")"
      ],
      "metadata": {
        "id": "wR0-7EcJECPY"
      },
      "execution_count": null,
      "outputs": []
    }
  ]
}