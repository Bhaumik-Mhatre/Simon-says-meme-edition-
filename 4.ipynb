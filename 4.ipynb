{
  "nbformat": 4,
  "nbformat_minor": 0,
  "metadata": {
    "colab": {
      "provenance": [],
      "authorship_tag": "ABX9TyPQfnZOIwq/1FAcMNcNUVVH",
      "include_colab_link": true
    },
    "kernelspec": {
      "name": "python3",
      "display_name": "Python 3"
    },
    "language_info": {
      "name": "python"
    }
  },
  "cells": [
    {
      "cell_type": "markdown",
      "metadata": {
        "id": "view-in-github",
        "colab_type": "text"
      },
      "source": [
        "<a href=\"https://colab.research.google.com/github/Bhaumik-Mhatre/Simon-says-meme-edition-/blob/main/4.ipynb\" target=\"_parent\"><img src=\"https://colab.research.google.com/assets/colab-badge.svg\" alt=\"Open In Colab\"/></a>"
      ]
    },
    {
      "cell_type": "code",
      "execution_count": null,
      "metadata": {
        "id": "jqHHePyj81d1"
      },
      "outputs": [],
      "source": []
    },
    {
      "cell_type": "code",
      "source": [],
      "metadata": {
        "id": "g5g7MhQYnmKd"
      },
      "execution_count": null,
      "outputs": []
    },
    {
      "cell_type": "code",
      "source": [],
      "metadata": {
        "id": "LiNotFXdnmN6"
      },
      "execution_count": null,
      "outputs": []
    },
    {
      "cell_type": "code",
      "source": [],
      "metadata": {
        "id": "oUfbJ3YnnmRW"
      },
      "execution_count": null,
      "outputs": []
    },
    {
      "cell_type": "code",
      "source": [],
      "metadata": {
        "id": "rli8d5VhnmUn"
      },
      "execution_count": null,
      "outputs": []
    },
    {
      "cell_type": "code",
      "source": [],
      "metadata": {
        "id": "cjOdB1aGnmYK"
      },
      "execution_count": null,
      "outputs": []
    },
    {
      "cell_type": "code",
      "source": [],
      "metadata": {
        "id": "flYIsokjnmbh"
      },
      "execution_count": null,
      "outputs": []
    },
    {
      "cell_type": "code",
      "source": [],
      "metadata": {
        "id": "urOoBh0Jnmej"
      },
      "execution_count": null,
      "outputs": []
    },
    {
      "cell_type": "code",
      "source": [],
      "metadata": {
        "id": "3fhr1Q3onmh6"
      },
      "execution_count": null,
      "outputs": []
    },
    {
      "cell_type": "code",
      "source": [],
      "metadata": {
        "id": "BhYleRXnnmlT"
      },
      "execution_count": null,
      "outputs": []
    },
    {
      "cell_type": "code",
      "source": [],
      "metadata": {
        "id": "tSCFfw7enmou"
      },
      "execution_count": null,
      "outputs": []
    },
    {
      "cell_type": "code",
      "source": [],
      "metadata": {
        "id": "oS37WDR-nmsD"
      },
      "execution_count": null,
      "outputs": []
    },
    {
      "cell_type": "code",
      "source": [],
      "metadata": {
        "id": "mqt2_lBOnmv1"
      },
      "execution_count": null,
      "outputs": []
    },
    {
      "cell_type": "code",
      "source": [],
      "metadata": {
        "id": "brYhvExQnmzS"
      },
      "execution_count": null,
      "outputs": []
    },
    {
      "cell_type": "code",
      "source": [],
      "metadata": {
        "id": "f01o5W9unm2t"
      },
      "execution_count": null,
      "outputs": []
    },
    {
      "cell_type": "code",
      "source": [],
      "metadata": {
        "id": "5BJm7GsJnm56"
      },
      "execution_count": null,
      "outputs": []
    },
    {
      "cell_type": "code",
      "source": [],
      "metadata": {
        "id": "iB9G0u63nm9p"
      },
      "execution_count": null,
      "outputs": []
    },
    {
      "cell_type": "code",
      "source": [
        "import numpy as np"
      ],
      "metadata": {
        "id": "8hLoBkLvnnAv"
      },
      "execution_count": null,
      "outputs": []
    },
    {
      "cell_type": "code",
      "source": [
        "def sigmoid(x):\n",
        "  return 1/(1 + nр.ехр(-х))"
      ],
      "metadata": {
        "id": "AKbdxyTy88lI"
      },
      "execution_count": null,
      "outputs": []
    },
    {
      "cell_type": "code",
      "source": [
        "X = np.array([[-1, -1], [-1, 1], [1, -1], [1, 1]]) # Inputs\n",
        "bias = np.ones((X.shape[0], 1))\n",
        "X = np.hstack((X, bias))\n",
        "Y = np.array([[-1], [-1], [-1], [1]]) # AND gate outputs\n",
        "print(X) # To verify the result"
      ],
      "metadata": {
        "id": "l8rdI0__9GwE"
      },
      "execution_count": null,
      "outputs": []
    },
    {
      "cell_type": "code",
      "source": [
        "#Initialize weights to zero\n",
        "weights = np.zeros((3, 1))\n",
        "learning_rate = 1"
      ],
      "metadata": {
        "id": "96L1jSqy-HJ0"
      },
      "execution_count": null,
      "outputs": []
    },
    {
      "cell_type": "code",
      "source": [
        "#Hebbian Learning Rule\n",
        "for i in range(len(X)):\n",
        "  weights += learning_rate * X[i].reshape(3, 1) * Y[i]\n",
        "  print(f\"Iteration {i+1}: Weights {weights.flatten()}\")"
      ],
      "metadata": {
        "id": "YykH8b6s-TyJ"
      },
      "execution_count": null,
      "outputs": []
    },
    {
      "cell_type": "code",
      "source": [
        "#Print the final weight matrix after the 4th iteration\n",
        "print(\"Final Weight Matrix:\")\n",
        "print(weights)"
      ],
      "metadata": {
        "id": "UFmL11Cc-0vN"
      },
      "execution_count": null,
      "outputs": []
    },
    {
      "cell_type": "code",
      "source": [
        "#Testing the model using sign function\n",
        "for itr in range(len(X)):\n",
        "  weighted_sum = np.dot (X[itr], weights)\n",
        "  output = np.sign(weighted_sum)\n",
        "  print(f\"Input: {X[itr]} -> Predicted Output: {output}\")"
      ],
      "metadata": {
        "id": "EPxkLTXG-_OH"
      },
      "execution_count": null,
      "outputs": []
    }
  ]
}